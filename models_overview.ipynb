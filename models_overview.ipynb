{
 "cells": [
  {
   "cell_type": "code",
   "execution_count": null,
   "metadata": {},
   "outputs": [],
   "source": [
    "import openai\n",
    "from api_keys import API_KEY\n",
    "\n",
    "# Load your API key from an environment variable or secret management service\n",
    "openai.api_key = API_KEY"
   ]
  },
  {
   "cell_type": "code",
   "execution_count": null,
   "metadata": {},
   "outputs": [],
   "source": [
    "\"\"\"\n",
    "This module contains information about the prices of different OpenAI models.\n",
    "\n",
    "The prices are per 1,000 tokens, where 1 token is approximately 4 characters or 0.75 words.\n",
    "\n",
    "The models are:\n",
    "\n",
    "- GPT-4: A set of models that improve on GPT-3.5 and can understand as well as generate natural language or code. They have different context sizes and prices.\n",
    "- ChatGPT: A set of models that are optimized for dialogue. The performance of gpt-3.5-turbo is on par with Instruct Davinci.\n",
    "- InstructGPT: A set of models that are optimized to follow single-turn instructions. Ada is the fastest model, while Davinci is the most powerful.\n",
    "- Fine-tuning: A feature that allows you to create your own custom models by fine-tuning the base models with your training data.\n",
    "- Embedding: A set of models that can convert text into a numerical form for advanced search, clustering, topic modeling, and classification functionality.\n",
    "- Image: A model that can generate and edit images given a natural language prompt. It offers three tiers of resolution for flexibility.\n",
    "- Audio: A model that can transcribe speech into text and translate many languages into English.\n",
    "\n",
    "The prices are:\n",
    "\n",
    "Model | Context | Price\n",
    "------|---------|------\n",
    "GPT-4 | 8K      | $0.03 / 1K tokens\n",
    "GPT-4 | 32K     | $0.06 / 1K tokens\n",
    "ChatGPT gpt-3.5-turbo | N/A | $0.002 / 1K tokens\n",
    "InstructGPT Ada | N/A | $0.0004 / 1K tokens\n",
    "InstructGPT Babbage | N/A | $0.0005 / 1K tokens\n",
    "InstructGPT Curie | N/A | $0.002 / 1K tokens\n",
    "InstructGPT Davinci | N/A | $0.02 / 1K tokens\n",
    "Fine-tuning Ada | N/A | $0.0016 / 1K tokens (usage only)\n",
    "Fine-tuning Babbage | N/A | $0.0024 / 1K tokens (usage only)\n",
    "Fine-tuning Curie | N/A | $0.012 / 1K tokens (usage only)\n",
    "Fine-tuning Davinci | N/A | $0.12 / 1K tokens (usage only)\n",
    "Embedding Ada | N/A | $0.0004 / 1K tokens\n",
    "Image 1024x1024 | N/A | $0.02 / image\n",
    "Image 512x512 | N/A | $0.018 / image\n",
    "Image 256x256 | N/A | $0.016 / image\n",
    "Audio Whisper | N/A | $0.006 / minute\n",
    "\n",
    "\"\"\"\n"
   ]
  },
  {
   "cell_type": "code",
   "execution_count": null,
   "metadata": {},
   "outputs": [],
   "source": []
  }
 ],
 "metadata": {
  "language_info": {
   "name": "python"
  },
  "orig_nbformat": 4
 },
 "nbformat": 4,
 "nbformat_minor": 2
}
